{
 "cells": [
  {
   "cell_type": "markdown",
   "metadata": {},
   "source": [
    "# Classification with imbalanced class distributions is a major problem in machine learning. Researchers have given considerable attention to the applications in many real-world scenarios. Although several works have utilized the area under the receiver operating characteristic (ROC) curve to select potentially optimal classifiers in imbalanced classifications, limited studies have been devoted to finding the classification threshold for testing or unknown datasets. In general, the classification threshold is simply set to 0.5, which is usually unsuitable for an imbalanced classification. Here I showed, thresholds based on FPR-TPR, Precision-Recall-F1score, and Youden J-index in Python"
   ]
  },
  {
   "cell_type": "markdown",
   "metadata": {},
   "source": [
    "## Loading Libraries"
   ]
  },
  {
   "cell_type": "code",
   "execution_count": 1,
   "metadata": {},
   "outputs": [
    {
     "data": {
      "text/html": [
       "<style>.container { width:95% !important; }</style>"
      ],
      "text/plain": [
       "<IPython.core.display.HTML object>"
      ]
     },
     "metadata": {},
     "output_type": "display_data"
    }
   ],
   "source": [
    "# Loading libraries\n",
    "import numpy as np\n",
    "import pandas as pd\n",
    "import matplotlib.pyplot as plt\n",
    "import matplotlib as mpl\n",
    "from scipy import interp\n",
    "from sklearn.preprocessing import scale\n",
    "from sklearn.metrics import roc_auc_score, classification_report, accuracy_score, roc_curve, confusion_matrix, average_precision_score, precision_recall_curve\n",
    "from sklearn.model_selection import cross_val_score, KFold, StratifiedKFold, train_test_split\n",
    "from xgboost import XGBClassifier\n",
    "import itertools\n",
    "import glmnet\n",
    "import xgboost as xgb\n",
    "\n",
    "import seaborn as sns\n",
    "sns.set_style(\"ticks\")\n",
    "mpl.rcParams['axes.linewidth'] = 3 \n",
    "mpl.rcParams['lines.linewidth'] = 2\n",
    "from IPython.core.display import display, HTML\n",
    "display(HTML(\"<style>.container { width:95% !important; }</style>\"))\n",
    "import warnings \n",
    "warnings.filterwarnings(\"ignore\")\n",
    "%matplotlib inline\n"
   ]
  },
  {
   "cell_type": "markdown",
   "metadata": {},
   "source": [
    "# Functions"
   ]
  },
  {
   "cell_type": "code",
   "execution_count": 2,
   "metadata": {},
   "outputs": [],
   "source": [
    "#*-*-*-*-*-*-*-*-*-*-*-*-*-*-*-*-*-*-*-*-*-*-*-*-*-*-*-*-*-*-*-*-*-*-*-*-*-*-*-*-*-*-*-*-*-*-\n",
    "# Function: _model\n",
    "\n",
    "def _clf_train(X_train, y_train, X_test, y_test,\n",
    "                 learning_rate = 0.05,\n",
    "                 n_estimators = 100,\n",
    "                 max_depth = 3,\n",
    "                 min_child_weight = 5.0,\n",
    "                 gamma = 1,\n",
    "                 reg_alpha = 0.0,\n",
    "                 reg_lambda = 1.0,\n",
    "                 subsample = 0.9,\n",
    "                 colsample_bytree = 0.9,\n",
    "                 objective = \"binary:logistic\",\n",
    "                 nthread = 4,\n",
    "                 scale_pos_weight = 1.0,\n",
    "                 seed = 1367,\n",
    "                 random_state = 1367):\n",
    "    \"\"\"\n",
    "    an xgboost model for training\n",
    "    \"\"\"\n",
    "\n",
    "    clf = XGBClassifier(learning_rate = learning_rate,\n",
    "                        n_estimators = n_estimators,\n",
    "                        max_depth = max_depth,\n",
    "                        min_child_weight = min_child_weight,\n",
    "                        gamma = gamma,\n",
    "                        reg_alpha = reg_alpha,\n",
    "                        reg_lambda = reg_lambda,\n",
    "                        subsample = subsample,\n",
    "                        colsample_bytree = colsample_bytree,\n",
    "                        objective = objective,\n",
    "                        nthread = nthread,\n",
    "                        scale_pos_weight = scale_pos_weight,\n",
    "                        seed = seed,\n",
    "                        random_state = random_state)\n",
    "    \n",
    "    clf.fit(X_train, y_train, eval_metric = \"auc\", early_stopping_rounds = 20, verbose = True, eval_set = [(X_test, y_test)])\n",
    "\n",
    "    return clf\n",
    "\n",
    "#*-*-*-*-*-*-*-*-*-*-*-*-*-*-*-*-*-*-*-*-*-*-*-*-*-*-*-*-*-*-*-*-*-*-*-*-*-*-*-*-*-*-*-*-*-*-\n",
    "# Function: Finding thresholds\n",
    "def _threshold_finder(model, X, y_true):\n",
    "    \"\"\"\n",
    "    a function to find the optimal threshold for binary classification\n",
    "    model: a trained model object (such as xgboost, glmnet, ...)\n",
    "    X: the test set of features (pandas dataframe or numpy array)\n",
    "    y_true: the true class labels (list or array of 0's and 1's)    \n",
    "    \"\"\"\n",
    "    \n",
    "    y_predict_proba = model.predict_proba(X)[:, 1]\n",
    "    fpr, tpr, thresholds = roc_curve(y_true, y_predict_proba)\n",
    "    auc = roc_auc_score(y_true, y_predict_proba)\n",
    "    precision, recall, thresholds2 = precision_recall_curve(y_true, y_predict_proba)\n",
    "    \n",
    "    class_names = [0, 1]\n",
    "    youden_idx = np.argmax(np.abs(tpr - fpr))\n",
    "    youden_threshold = thresholds[youden_idx]\n",
    "    y_pred_youden = (y_predict_proba > youden_threshold).astype(int)\n",
    "    cnf_matrix = confusion_matrix(y_true, y_pred_youden)\n",
    "    np.set_printoptions(precision=2)\n",
    "    \n",
    "    f1 = []\n",
    "    for i in range(len(precision)):\n",
    "        f1.append(2 * (precision[i] * recall[i]) / (precision[i] + recall[i]))\n",
    "        \n",
    "    queue_rate = []\n",
    "    for thr in thresholds2:\n",
    "        queue_rate.append((y_predict_proba >= thr).mean()) \n",
    "\n",
    "    plt.figure(figsize = (10, 5))\n",
    "    plt.subplot(1,2,1)\n",
    "    plt.plot(fpr, tpr, color = \"red\", label = F\"AUC = {auc:.3f}\")\n",
    "    plt.plot(fpr[youden_idx], tpr[youden_idx], marker = \"o\", color = \"navy\", ms =10, label =F\"Youden Threshold = {youden_threshold:.2f}\" )\n",
    "    plt.axvline(x = fpr[youden_idx], ymin = fpr[youden_idx], ymax = tpr[youden_idx], color = \"navy\", ls = \"--\")\n",
    "    plt.plot([0,1], [0,1] , color = \"black\", ls = \"--\")\n",
    "    plt.xlim([-0.01, 1.01])\n",
    "    plt.ylim([-0.01, 1.01])\n",
    "    plt.xlabel('1 - Specificity' , fontsize=12)\n",
    "    plt.ylabel('Sensitivity' , fontsize=12)\n",
    "    plt.tick_params(axis='both', which='major', labelsize=12)\n",
    "    plt.legend( prop={'size':12} , loc = 4)\n",
    "\n",
    "    plt.subplot(1,2,2)\n",
    "    _plot_confusion_matrix(cnf_matrix, classes=class_names, normalize = False, cmap=plt.cm.Reds, title = F\"Youden Threshold = {youden_threshold:.2f}\\nAccuracy = {accuracy_score(y_true, y_pred_youden)*100:.2f}%\")\n",
    "    plt.show()\n",
    "    \n",
    "    plt.figure(figsize = (12, 5))\n",
    "    plt.subplot(1,2,1)\n",
    "    plt.plot(thresholds, 1-fpr, label = \"1 - Specificity\")\n",
    "    plt.plot(thresholds, tpr, label = \"Sensitivity\")\n",
    "    plt.xlabel(\"Threshold\", fontsize = 12)\n",
    "    plt.ylabel(\"Score\", fontsize = 12)\n",
    "    plt.legend(loc = 0)\n",
    "    plt.xlim([0.0025, 0.2])\n",
    "    plt.axvline(thresholds[np.argmin(abs(tpr + fpr - 1))], color=\"k\", ls = \"--\")\n",
    "    plt.title(F\"Threshold = {thresholds[np.argmin(abs(tpr + fpr - 1))]:.3f}\", fontsize = 12)\n",
    "    \n",
    "    plt.subplot(1,2,2)\n",
    "    plt.plot(thresholds2, precision[1:], label = \"Precision\")\n",
    "    plt.plot(thresholds2, recall[1:], label = \"Recall\")\n",
    "    plt.plot(thresholds2, f1[1:], label = \"F1-Score\")\n",
    "    plt.plot(thresholds2, queue_rate, label = \"Queue Rate\")\n",
    "    plt.legend(loc = 0)\n",
    "    plt.xlim([0.025, 0.25])\n",
    "    plt.xlabel(\"Threshold\", fontsize = 12)\n",
    "    plt.ylabel(\"Score\", fontsize = 12)\n",
    "    plt.axvline(thresholds2[np.argmin(abs(precision-recall))], color=\"k\", ls = \"--\")\n",
    "    plt.title(label = F\"Threshold = {thresholds2[np.argmin(abs(precision-recall))]:.3f}\", fontsize = 12)\n",
    "    plt.show()\n",
    "\n",
    "#*-*-*-*-*-*-*-*-*-*-*-*-*-*-*-*-*-*-*-*-*-*-*-*-*-*-*-*-*-*-*-*-*-*-*-*-*-*-*-*-*-*-*-*-*-*-\n",
    "# Function: Plotting Confusion Matrix\n",
    "def _plot_confusion_matrix(cm, classes,\n",
    "                          normalize=False,\n",
    "                          title='Confusion matrix',\n",
    "                          cmap=plt.cm.Greens):\n",
    "    from sklearn.metrics import precision_score, recall_score, roc_auc_score, accuracy_score, roc_curve, auc, confusion_matrix\n",
    "    import itertools\n",
    "    \"\"\"\n",
    "    This function prints and plots the confusion matrix.\n",
    "    Normalization can be applied by setting `normalize=True`.\n",
    "    \"\"\"\n",
    "    if normalize:\n",
    "        cm = cm.astype('float') / cm.sum(axis=1)[:, np.newaxis]\n",
    "\n",
    "    plt.imshow(cm, interpolation='nearest', cmap=cmap)\n",
    "    plt.title(title, fontsize = 14)\n",
    "    plt.colorbar()\n",
    "    tick_marks = np.arange(len(classes))\n",
    "    plt.xticks(tick_marks, classes)\n",
    "    plt.yticks(tick_marks, classes)\n",
    "\n",
    "    fmt = '.2f' if normalize else 'd'\n",
    "    thresh = cm.max() / 2.\n",
    "    for i, j in itertools.product(range(cm.shape[0]), range(cm.shape[1])):\n",
    "        plt.text(j, i, format(cm[i, j], fmt),\n",
    "                 horizontalalignment=\"center\",\n",
    "                 color=\"black\")\n",
    "\n",
    "    plt.ylabel('True Class', fontsize = 14)\n",
    "    plt.xlabel('Predicted Class', fontsize = 14)\n",
    "\n",
    "    plt.tick_params(axis='both', which='major', labelsize=14)\n",
    "    plt.tight_layout()"
   ]
  },
  {
   "cell_type": "markdown",
   "metadata": {},
   "source": [
    "### First, I loaded the data into a pandas dataframe to get some idea."
   ]
  },
  {
   "cell_type": "code",
   "execution_count": 3,
   "metadata": {},
   "outputs": [],
   "source": [
    "# readin the data into a dataframe\n",
    "dateparser = lambda x: pd.datetime.strptime(x, \"%Y-%m-%d\")\n",
    "df_raw = pd.read_csv(\"./device_failure.csv\",\n",
    "                     parse_dates = [\"date\"],\n",
    "                     date_parser = dateparser,\n",
    "                     encoding = \"cp1252\")"
   ]
  },
  {
   "cell_type": "code",
   "execution_count": 4,
   "metadata": {},
   "outputs": [
    {
     "name": "stdout",
     "output_type": "stream",
     "text": [
      "Shape: (124494, 12)\n",
      "Prevalence = 0.085%\n"
     ]
    }
   ],
   "source": [
    "print(\"Shape: {}\".format(df_raw.shape))\n",
    "print(\"Prevalence = {:.3f}%\".format(df_raw[\"failure\"].sum()/df_raw.shape[0] * 100))"
   ]
  },
  {
   "cell_type": "code",
   "execution_count": 5,
   "metadata": {},
   "outputs": [
    {
     "data": {
      "text/html": [
       "<div>\n",
       "<style scoped>\n",
       "    .dataframe tbody tr th:only-of-type {\n",
       "        vertical-align: middle;\n",
       "    }\n",
       "\n",
       "    .dataframe tbody tr th {\n",
       "        vertical-align: top;\n",
       "    }\n",
       "\n",
       "    .dataframe thead th {\n",
       "        text-align: right;\n",
       "    }\n",
       "</style>\n",
       "<table border=\"1\" class=\"dataframe\">\n",
       "  <thead>\n",
       "    <tr style=\"text-align: right;\">\n",
       "      <th></th>\n",
       "      <th>date</th>\n",
       "      <th>device</th>\n",
       "      <th>failure</th>\n",
       "      <th>attribute1</th>\n",
       "      <th>attribute2</th>\n",
       "      <th>attribute3</th>\n",
       "      <th>attribute4</th>\n",
       "      <th>attribute5</th>\n",
       "      <th>attribute6</th>\n",
       "      <th>attribute7</th>\n",
       "      <th>attribute8</th>\n",
       "      <th>attribute9</th>\n",
       "    </tr>\n",
       "  </thead>\n",
       "  <tbody>\n",
       "    <tr>\n",
       "      <th>0</th>\n",
       "      <td>2015-01-01</td>\n",
       "      <td>S1F01085</td>\n",
       "      <td>0</td>\n",
       "      <td>215630672</td>\n",
       "      <td>56</td>\n",
       "      <td>0</td>\n",
       "      <td>52</td>\n",
       "      <td>6</td>\n",
       "      <td>407438</td>\n",
       "      <td>0</td>\n",
       "      <td>0</td>\n",
       "      <td>7</td>\n",
       "    </tr>\n",
       "    <tr>\n",
       "      <th>1</th>\n",
       "      <td>2015-01-01</td>\n",
       "      <td>S1F0166B</td>\n",
       "      <td>0</td>\n",
       "      <td>61370680</td>\n",
       "      <td>0</td>\n",
       "      <td>3</td>\n",
       "      <td>0</td>\n",
       "      <td>6</td>\n",
       "      <td>403174</td>\n",
       "      <td>0</td>\n",
       "      <td>0</td>\n",
       "      <td>0</td>\n",
       "    </tr>\n",
       "    <tr>\n",
       "      <th>2</th>\n",
       "      <td>2015-01-01</td>\n",
       "      <td>S1F01E6Y</td>\n",
       "      <td>0</td>\n",
       "      <td>173295968</td>\n",
       "      <td>0</td>\n",
       "      <td>0</td>\n",
       "      <td>0</td>\n",
       "      <td>12</td>\n",
       "      <td>237394</td>\n",
       "      <td>0</td>\n",
       "      <td>0</td>\n",
       "      <td>0</td>\n",
       "    </tr>\n",
       "    <tr>\n",
       "      <th>3</th>\n",
       "      <td>2015-01-01</td>\n",
       "      <td>S1F01JE0</td>\n",
       "      <td>0</td>\n",
       "      <td>79694024</td>\n",
       "      <td>0</td>\n",
       "      <td>0</td>\n",
       "      <td>0</td>\n",
       "      <td>6</td>\n",
       "      <td>410186</td>\n",
       "      <td>0</td>\n",
       "      <td>0</td>\n",
       "      <td>0</td>\n",
       "    </tr>\n",
       "    <tr>\n",
       "      <th>4</th>\n",
       "      <td>2015-01-01</td>\n",
       "      <td>S1F01R2B</td>\n",
       "      <td>0</td>\n",
       "      <td>135970480</td>\n",
       "      <td>0</td>\n",
       "      <td>0</td>\n",
       "      <td>0</td>\n",
       "      <td>15</td>\n",
       "      <td>313173</td>\n",
       "      <td>0</td>\n",
       "      <td>0</td>\n",
       "      <td>3</td>\n",
       "    </tr>\n",
       "  </tbody>\n",
       "</table>\n",
       "</div>"
      ],
      "text/plain": [
       "        date    device  failure  attribute1  attribute2  attribute3  \\\n",
       "0 2015-01-01  S1F01085        0   215630672          56           0   \n",
       "1 2015-01-01  S1F0166B        0    61370680           0           3   \n",
       "2 2015-01-01  S1F01E6Y        0   173295968           0           0   \n",
       "3 2015-01-01  S1F01JE0        0    79694024           0           0   \n",
       "4 2015-01-01  S1F01R2B        0   135970480           0           0   \n",
       "\n",
       "   attribute4  attribute5  attribute6  attribute7  attribute8  attribute9  \n",
       "0          52           6      407438           0           0           7  \n",
       "1           0           6      403174           0           0           0  \n",
       "2           0          12      237394           0           0           0  \n",
       "3           0           6      410186           0           0           0  \n",
       "4           0          15      313173           0           0           3  "
      ]
     },
     "execution_count": 5,
     "metadata": {},
     "output_type": "execute_result"
    }
   ],
   "source": [
    "df_raw.head()"
   ]
  },
  {
   "cell_type": "markdown",
   "metadata": {},
   "source": [
    "### Preprocessing and builing X, Y training/testing sets."
   ]
  },
  {
   "cell_type": "code",
   "execution_count": 6,
   "metadata": {},
   "outputs": [
    {
     "name": "stdout",
     "output_type": "stream",
     "text": [
      "Train Size = (99595, 8)\n",
      "Test Size = (24899, 8)\n"
     ]
    }
   ],
   "source": [
    "target = \"failure\"\n",
    "to_drop = [\"date\", \"device\", \"attribute8\", \"failure\"]\n",
    "y = df_raw[target].values\n",
    "X = df_raw.drop(to_drop, axis = 1)\n",
    "\n",
    "X_train, X_test, y_train, y_test = train_test_split(X, y, test_size = 0.20, shuffle = True, random_state = 1367, stratify = y)\n",
    "print(F\"Train Size = {X_train.shape}\")\n",
    "print(F\"Test Size = {X_test.shape}\")"
   ]
  },
  {
   "cell_type": "markdown",
   "metadata": {},
   "source": [
    "### Printing the first 5 rows of the sclaed features. "
   ]
  },
  {
   "cell_type": "code",
   "execution_count": 7,
   "metadata": {},
   "outputs": [
    {
     "data": {
      "text/html": [
       "<div>\n",
       "<style scoped>\n",
       "    .dataframe tbody tr th:only-of-type {\n",
       "        vertical-align: middle;\n",
       "    }\n",
       "\n",
       "    .dataframe tbody tr th {\n",
       "        vertical-align: top;\n",
       "    }\n",
       "\n",
       "    .dataframe thead th {\n",
       "        text-align: right;\n",
       "    }\n",
       "</style>\n",
       "<table border=\"1\" class=\"dataframe\">\n",
       "  <thead>\n",
       "    <tr style=\"text-align: right;\">\n",
       "      <th></th>\n",
       "      <th>attribute1</th>\n",
       "      <th>attribute2</th>\n",
       "      <th>attribute3</th>\n",
       "      <th>attribute4</th>\n",
       "      <th>attribute5</th>\n",
       "      <th>attribute6</th>\n",
       "      <th>attribute7</th>\n",
       "      <th>attribute9</th>\n",
       "    </tr>\n",
       "  </thead>\n",
       "  <tbody>\n",
       "    <tr>\n",
       "      <th>7043</th>\n",
       "      <td>154658576</td>\n",
       "      <td>0</td>\n",
       "      <td>0</td>\n",
       "      <td>6</td>\n",
       "      <td>7</td>\n",
       "      <td>211825</td>\n",
       "      <td>0</td>\n",
       "      <td>1</td>\n",
       "    </tr>\n",
       "    <tr>\n",
       "      <th>115494</th>\n",
       "      <td>139749056</td>\n",
       "      <td>0</td>\n",
       "      <td>0</td>\n",
       "      <td>0</td>\n",
       "      <td>8</td>\n",
       "      <td>300480</td>\n",
       "      <td>0</td>\n",
       "      <td>0</td>\n",
       "    </tr>\n",
       "    <tr>\n",
       "      <th>42429</th>\n",
       "      <td>150809064</td>\n",
       "      <td>0</td>\n",
       "      <td>318</td>\n",
       "      <td>0</td>\n",
       "      <td>6</td>\n",
       "      <td>310486</td>\n",
       "      <td>0</td>\n",
       "      <td>18</td>\n",
       "    </tr>\n",
       "    <tr>\n",
       "      <th>35289</th>\n",
       "      <td>136377576</td>\n",
       "      <td>0</td>\n",
       "      <td>0</td>\n",
       "      <td>0</td>\n",
       "      <td>12</td>\n",
       "      <td>237584</td>\n",
       "      <td>0</td>\n",
       "      <td>0</td>\n",
       "    </tr>\n",
       "    <tr>\n",
       "      <th>57282</th>\n",
       "      <td>60144304</td>\n",
       "      <td>0</td>\n",
       "      <td>0</td>\n",
       "      <td>1</td>\n",
       "      <td>7</td>\n",
       "      <td>307632</td>\n",
       "      <td>0</td>\n",
       "      <td>0</td>\n",
       "    </tr>\n",
       "  </tbody>\n",
       "</table>\n",
       "</div>"
      ],
      "text/plain": [
       "        attribute1  attribute2  attribute3  attribute4  attribute5  \\\n",
       "7043     154658576           0           0           6           7   \n",
       "115494   139749056           0           0           0           8   \n",
       "42429    150809064           0         318           0           6   \n",
       "35289    136377576           0           0           0          12   \n",
       "57282     60144304           0           0           1           7   \n",
       "\n",
       "        attribute6  attribute7  attribute9  \n",
       "7043        211825           0           1  \n",
       "115494      300480           0           0  \n",
       "42429       310486           0          18  \n",
       "35289       237584           0           0  \n",
       "57282       307632           0           0  "
      ]
     },
     "execution_count": 7,
     "metadata": {},
     "output_type": "execute_result"
    }
   ],
   "source": [
    "X_train.head()"
   ]
  },
  {
   "cell_type": "markdown",
   "metadata": {},
   "source": [
    "### Train a model"
   ]
  },
  {
   "cell_type": "code",
   "execution_count": 8,
   "metadata": {
    "scrolled": false
   },
   "outputs": [
    {
     "name": "stdout",
     "output_type": "stream",
     "text": [
      "[0]\tvalidation_0-auc:0.594635\n",
      "Will train until validation_0-auc hasn't improved in 20 rounds.\n",
      "[1]\tvalidation_0-auc:0.594635\n",
      "[2]\tvalidation_0-auc:0.618237\n",
      "[3]\tvalidation_0-auc:0.618237\n",
      "[4]\tvalidation_0-auc:0.618271\n",
      "[5]\tvalidation_0-auc:0.618271\n",
      "[6]\tvalidation_0-auc:0.618271\n",
      "[7]\tvalidation_0-auc:0.618271\n",
      "[8]\tvalidation_0-auc:0.617054\n",
      "[9]\tvalidation_0-auc:0.617054\n",
      "[10]\tvalidation_0-auc:0.662072\n",
      "[11]\tvalidation_0-auc:0.662072\n",
      "[12]\tvalidation_0-auc:0.662072\n",
      "[13]\tvalidation_0-auc:0.685412\n",
      "[14]\tvalidation_0-auc:0.685173\n",
      "[15]\tvalidation_0-auc:0.685164\n",
      "[16]\tvalidation_0-auc:0.685183\n",
      "[17]\tvalidation_0-auc:0.772991\n",
      "[18]\tvalidation_0-auc:0.773219\n",
      "[19]\tvalidation_0-auc:0.773221\n",
      "[20]\tvalidation_0-auc:0.773208\n",
      "[21]\tvalidation_0-auc:0.773261\n",
      "[22]\tvalidation_0-auc:0.773641\n",
      "[23]\tvalidation_0-auc:0.773637\n",
      "[24]\tvalidation_0-auc:0.773637\n",
      "[25]\tvalidation_0-auc:0.773635\n",
      "[26]\tvalidation_0-auc:0.773796\n",
      "[27]\tvalidation_0-auc:0.774048\n",
      "[28]\tvalidation_0-auc:0.773964\n",
      "[29]\tvalidation_0-auc:0.773948\n",
      "[30]\tvalidation_0-auc:0.773976\n",
      "[31]\tvalidation_0-auc:0.773968\n",
      "[32]\tvalidation_0-auc:0.773887\n",
      "[33]\tvalidation_0-auc:0.773855\n",
      "[34]\tvalidation_0-auc:0.773727\n",
      "[35]\tvalidation_0-auc:0.773725\n",
      "[36]\tvalidation_0-auc:0.773794\n",
      "[37]\tvalidation_0-auc:0.774106\n",
      "[38]\tvalidation_0-auc:0.774033\n",
      "[39]\tvalidation_0-auc:0.774095\n",
      "[40]\tvalidation_0-auc:0.77406\n",
      "[41]\tvalidation_0-auc:0.773846\n",
      "[42]\tvalidation_0-auc:0.773844\n",
      "[43]\tvalidation_0-auc:0.774055\n",
      "[44]\tvalidation_0-auc:0.773927\n",
      "[45]\tvalidation_0-auc:0.773927\n",
      "[46]\tvalidation_0-auc:0.773969\n",
      "[47]\tvalidation_0-auc:0.77399\n",
      "[48]\tvalidation_0-auc:0.774048\n",
      "[49]\tvalidation_0-auc:0.77426\n",
      "[50]\tvalidation_0-auc:0.814616\n",
      "[51]\tvalidation_0-auc:0.814617\n",
      "[52]\tvalidation_0-auc:0.814366\n",
      "[53]\tvalidation_0-auc:0.814277\n",
      "[54]\tvalidation_0-auc:0.814324\n",
      "[55]\tvalidation_0-auc:0.814311\n",
      "[56]\tvalidation_0-auc:0.814347\n",
      "[57]\tvalidation_0-auc:0.814238\n",
      "[58]\tvalidation_0-auc:0.814154\n",
      "[59]\tvalidation_0-auc:0.813977\n",
      "[60]\tvalidation_0-auc:0.813904\n",
      "[61]\tvalidation_0-auc:0.813735\n",
      "[62]\tvalidation_0-auc:0.811469\n",
      "[63]\tvalidation_0-auc:0.811915\n",
      "[64]\tvalidation_0-auc:0.811839\n",
      "[65]\tvalidation_0-auc:0.811803\n",
      "[66]\tvalidation_0-auc:0.811862\n",
      "[67]\tvalidation_0-auc:0.811875\n",
      "[68]\tvalidation_0-auc:0.811767\n",
      "[69]\tvalidation_0-auc:0.811832\n",
      "[70]\tvalidation_0-auc:0.81184\n",
      "[71]\tvalidation_0-auc:0.811859\n",
      "Stopping. Best iteration:\n",
      "[51]\tvalidation_0-auc:0.814617\n",
      "\n"
     ]
    }
   ],
   "source": [
    "model = _clf_train(X_train, y_train, X_test, y_test)"
   ]
  },
  {
   "cell_type": "markdown",
   "metadata": {},
   "source": [
    "### Visualization of Thresholds"
   ]
  },
  {
   "cell_type": "code",
   "execution_count": 9,
   "metadata": {},
   "outputs": [
    {
     "data": {
      "image/png": "[encoded data removed]",
      "text/plain": [
       "<Figure size 720x360 with 3 Axes>"
      ]
     },
     "metadata": {
      "needs_background": "light"
     },
     "output_type": "display_data"
    },
    {
     "data": {
      "image/png": "[encoded data removed]",
      "text/plain": [
       "<Figure size 864x360 with 2 Axes>"
      ]
     },
     "metadata": {
      "needs_background": "light"
     },
     "output_type": "display_data"
    }
   ],
   "source": [
    "_threshold_finder(model = model, X = X_test, y_true = y_test)"
   ]
  }
 ],
 "metadata": {
  "kernelspec": {
   "display_name": "Python 3",
   "language": "python",
   "name": "python3"
  },
  "language_info": {
   "codemirror_mode": {
    "name": "ipython",
    "version": 3
   },
   "file_extension": ".py",
   "mimetype": "text/x-python",
   "name": "python",
   "nbconvert_exporter": "python",
   "pygments_lexer": "ipython3",
   "version": "3.7.2"
  }
 },
 "nbformat": 4,
 "nbformat_minor": 2
}
