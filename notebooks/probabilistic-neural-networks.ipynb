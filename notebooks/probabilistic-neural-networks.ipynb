{
 "cells": [
  {
   "cell_type": "markdown",
   "metadata": {
    "collapsed": true
   },
   "source": [
    "# Introduction"
   ]
  },
  {
   "cell_type": "markdown",
   "metadata": {},
   "source": [
    "## A probabilistic neural network (PNN) is a feedforward neural network, which is widely used in classification and pattern recognition problems. In the PNN algorithm, the parent probability distribution function (PDF) of each class is approximated by a Parzen window and a non-parametric function. Then, using PDF of each class, the class probability of a new input data is estimated and Bayes’ rule is then employed to allocate the class with highest posterior probability to new input data.\n",
    "\n",
    "## By this method, the probability of mis-classification is minimized. This type of ANN was derived from the Bayesian network and a statistical algorithm called Kernel Fisher discriminant analysis. It was introduced by D.F. Specht in 1966.\n",
    "\n",
    "## In a PNN, the operations are organized into a multilayered feedforward network with four layers:\n",
    "\n",
    "* **Input layer**\n",
    "* **Pattern layer**\n",
    "* **Summation layer**\n",
    "* **Output layer**\n"
   ]
  },
  {
   "cell_type": "code",
   "execution_count": 1,
   "metadata": {},
   "outputs": [],
   "source": [
    "# Loading Libraries\n",
    "import numpy as np\n",
    "import pandas as pd\n",
    "import matplotlib.pyplot as plt\n",
    "import matplotlib as mpl\n",
    "import seaborn as sns\n",
    "sns.set_style(\"ticks\")\n",
    "mpl.rcParams['axes.linewidth'] = 3 \n",
    "mpl.rcParams['lines.linewidth'] =7"
   ]
  },
  {
   "cell_type": "code",
   "execution_count": 12,
   "metadata": {},
   "outputs": [],
   "source": [
    "def Create_DataFrame():\n",
    "    # defining the features and class labels as a dictionary\n",
    "    data = {\n",
    "            \"Feature_1\" : [0.1, 0.5,  0.2, 0.6,  0.8,  0.4,  0.8,  0.6,  0.3],\n",
    "            \"Feature_2\" : [0.9, 0.9,  0.7, 0.6,  0.8,  0.5,  0.5,  0.3,  0.2],\n",
    "            \"Class_Label\" : [1, 1, 1, 2, 2, 2, 3, 3, 3]\n",
    "           }\n",
    "\n",
    "    # converting the dictionary into a dataframe\n",
    "    df = pd.DataFrame(data = data)\n",
    "    \n",
    "    return df"
   ]
  },
  {
   "cell_type": "code",
   "execution_count": 13,
   "metadata": {},
   "outputs": [],
   "source": [
    "def PNN(df, DesiredPoint):\n",
    "    # defining a group for each class labels\n",
    "    Clusters = df.groupby(\"Class_Label\")\n",
    "\n",
    "    # defining the number of classes as clusters\n",
    "    NumClusters = len(Clusters)\n",
    "\n",
    "    # an empty dictionary for calculating the sum of Gaussian for each class\n",
    "    GaussianSums = dict()\n",
    "\n",
    "    # defining the number of features\n",
    "    NumFeatures = df.shape[1] - 1\n",
    "\n",
    "    # defining the standard deviation for Gaussian distribution\n",
    "    Sigma = 1.0\n",
    "\n",
    "    # creating features array\n",
    "    Features = df.drop([\"Class_Label\"], axis = 1).values\n",
    "\n",
    "    # INPUT LAYER OF PNN\n",
    "\n",
    "    # defining a row variable for moving over the data row by row\n",
    "    _row = 0\n",
    "\n",
    "    # loop over the number of clusters\n",
    "    for i in range(1, NumClusters + 1):\n",
    "\n",
    "        # initialize the GaussianSum for each class\n",
    "        GaussianSums[i] = 0.0\n",
    "\n",
    "        # defining the number of points per cluster\n",
    "        PointsPerCluster = len(Clusters.get_group(i))\n",
    "\n",
    "        # PATTERN LAYER OF PNN\n",
    "        # definining temporary sum for holding the sum of X and Y elements\n",
    "        TempSum = 0.0\n",
    "        # loop over points of each cluster and GaussianSum calculation\n",
    "        for j in range(1, PointsPerCluster + 1):\n",
    "            # calculating the X element of Gauassian\n",
    "            TempX = ( DesiredPoint[0] - Features[_row][0]  )**2\n",
    "            # calculating the y element of Gauassian\n",
    "            TempY = ( DesiredPoint[1] - Features[_row][1]  )**2\n",
    "            # calculating the Gaussian\n",
    "            TempCoeff = -(TempX + TempY)/(2.0 * Sigma**2)\n",
    "            # adding the calculated Gaussian for all the points per cluster\n",
    "            TempSum +=  TempCoeff\n",
    "            # incrementing the row to cover all points per cluster\n",
    "            _row += 1\n",
    "        # storing the GaussianSum per cluster in a dictionary\n",
    "        GaussianSums[i] = TempSum\n",
    "\n",
    "    # returning the key of the maximum GaussianSum per cluster  \n",
    "    CalculatedClass = max(GaussianSums, key = GaussianSums.get)\n",
    "    \n",
    "    # Visualization\n",
    "    Visualization(df, Features, DesiredPoint, CalculatedClass)\n",
    "    \n",
    "    print(\"Calculated Class = \" + str(CalculatedClass))"
   ]
  },
  {
   "cell_type": "code",
   "execution_count": 28,
   "metadata": {},
   "outputs": [],
   "source": [
    "def Visualization(df, Features, DesiredPoint, CalculatedClass):    \n",
    "    \n",
    "    color_dict = {1 : \"Red\", 2 : \"Yellow\", 3 : \"Green\"}\n",
    "    plt.figure(figsize=(10,6))\n",
    "    plt.scatter(Features[:,0],\n",
    "                Features[:,1], \n",
    "                s = 300.,\n",
    "                c = df[\"Class_Label\"],\n",
    "                cmap=plt.cm.prism,\n",
    "                marker = \"o\",\n",
    "                lw = 3,\n",
    "                edgecolor='k')\n",
    "    plt.scatter(DesiredPoint[0],\n",
    "                DesiredPoint[1], \n",
    "                s = 300.,\n",
    "                c = \"k\",\n",
    "                marker = \"*\",\n",
    "                lw = 3,\n",
    "                edgecolor='k')\n",
    "    plt.xlabel(\"Feature 1\", fontsize = 20)\n",
    "    plt.ylabel(\"Feature 2\", fontsize = 20)\n",
    "    plt.title(\"Predicted Cluster = \" + color_dict[CalculatedClass], fontsize = 20)\n",
    "    plt.xlim([0,1])\n",
    "    plt.ylim([0,1])\n",
    "    plt.show()"
   ]
  },
  {
   "cell_type": "code",
   "execution_count": 29,
   "metadata": {},
   "outputs": [],
   "source": [
    "def main():\n",
    "    # desired point for clustering\n",
    "    DesiredPoint = [0.9, 0.1]\n",
    "    df = Create_DataFrame()\n",
    "    print(\"************** Dataframe ***************\")\n",
    "    print(df)\n",
    "    print(\"****************************************\")\n",
    "    print(\"Desired Point = [{}, {}]\".format(DesiredPoint[0], DesiredPoint[1]))\n",
    "    PNN(df, DesiredPoint)"
   ]
  },
  {
   "cell_type": "code",
   "execution_count": 30,
   "metadata": {},
   "outputs": [
    {
     "name": "stdout",
     "output_type": "stream",
     "text": [
      "************** Dataframe ***************\n",
      "   Class_Label  Feature_1  Feature_2\n",
      "0            1        0.1        0.9\n",
      "1            1        0.5        0.9\n",
      "2            1        0.2        0.7\n",
      "3            2        0.6        0.6\n",
      "4            2        0.8        0.8\n",
      "5            2        0.4        0.5\n",
      "6            3        0.8        0.5\n",
      "7            3        0.6        0.3\n",
      "8            3        0.3        0.2\n",
      "****************************************\n",
      "Desired Point = [0.9, 0.1]\n"
     ]
    },
    {
     "data": {
      "image/png": "[encoded data removed]",
      "text/plain": [
       "<Figure size 720x432 with 1 Axes>"
      ]
     },
     "metadata": {
      "needs_background": "light"
     },
     "output_type": "display_data"
    },
    {
     "name": "stdout",
     "output_type": "stream",
     "text": [
      "Calculated Class = 3\n"
     ]
    }
   ],
   "source": [
    "main()"
   ]
  }
 ],
 "metadata": {
  "kernelspec": {
   "display_name": "Python 2",
   "language": "python",
   "name": "python2"
  },
  "language_info": {
   "codemirror_mode": {
    "name": "ipython",
    "version": 2
   },
   "file_extension": ".py",
   "mimetype": "text/x-python",
   "name": "python",
   "nbconvert_exporter": "python",
   "pygments_lexer": "ipython2",
   "version": "2.7.15"
  }
 },
 "nbformat": 4,
 "nbformat_minor": 2
}
