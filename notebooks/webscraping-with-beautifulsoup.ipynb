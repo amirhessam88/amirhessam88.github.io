{
 "cells": [
  {
   "cell_type": "markdown",
   "metadata": {},
   "source": [
    "# Web Scraping using BeautifulSoup "
   ]
  },
  {
   "cell_type": "markdown",
   "metadata": {},
   "source": [
    "## Web Scraping (also termed Screen Scraping, Web Data Extraction, Web Harvesting etc.) is a technique employed to extract large amounts of data from websites whereby the data is extracted and saved to a local file in your computer or to a database in table (spreadsheet) format."
   ]
  },
  {
   "cell_type": "code",
   "execution_count": 1,
   "metadata": {},
   "outputs": [],
   "source": [
    "# Loading libraries\n",
    "import numpy as np\n",
    "import pandas as pd\n",
    "import requests\n",
    "from bs4 import BeautifulSoup"
   ]
  },
  {
   "cell_type": "markdown",
   "metadata": {},
   "source": [
    "# Here is the link to Trump's lies artcile from NY-Times. https://www.nytimes.com/interactive/2017/06/23/opinion/trumps-lies.html"
   ]
  },
  {
   "cell_type": "markdown",
   "metadata": {},
   "source": [
    "# Here is the structure of the first lie:"
   ]
  },
  {
   "cell_type": "raw",
   "metadata": {},
   "source": [
    " <span class=\"short-desc\"><strong>Jan. 21&nbsp;</strong>“I wasn't a fan of Iraq. I didn't want to go into Iraq.” <span class=\"short-truth\"><a href=\"https://www.buzzfeed.com/andrewkaczynski/in-2002-donald-trump-said-he-supported-invading-iraq-on-the\" target=\"_blank\">(He was for an invasion before he was against it.)</a></span></span>&nbsp;&nbsp;"
   ]
  },
  {
   "cell_type": "code",
   "execution_count": 2,
   "metadata": {},
   "outputs": [],
   "source": [
    "link = \"https://www.nytimes.com/interactive/2017/06/23/opinion/trumps-lies.html\"\n",
    "response = requests.get(link)"
   ]
  },
  {
   "cell_type": "markdown",
   "metadata": {},
   "source": [
    "# Collecting all the records"
   ]
  },
  {
   "cell_type": "code",
   "execution_count": 3,
   "metadata": {},
   "outputs": [],
   "source": [
    "soup = BeautifulSoup(response.text, \"html.parser\")"
   ]
  },
  {
   "cell_type": "code",
   "execution_count": 4,
   "metadata": {},
   "outputs": [],
   "source": [
    "results = soup.find_all(name = \"span\", attrs = {\"class\" : \"short-desc\"})"
   ]
  },
  {
   "cell_type": "code",
   "execution_count": 5,
   "metadata": {},
   "outputs": [
    {
     "data": {
      "text/plain": [
       "180"
      ]
     },
     "execution_count": 5,
     "metadata": {},
     "output_type": "execute_result"
    }
   ],
   "source": [
    "len(results)"
   ]
  },
  {
   "cell_type": "code",
   "execution_count": 6,
   "metadata": {},
   "outputs": [
    {
     "data": {
      "text/plain": [
       "<span class=\"short-desc\"><strong>Jan. 21 </strong>“I wasn't a fan of Iraq. I didn't want to go into Iraq.” <span class=\"short-truth\"><a href=\"https://www.buzzfeed.com/andrewkaczynski/in-2002-donald-trump-said-he-supported-invading-iraq-on-the\" target=\"_blank\">(He was for an invasion before he was against it.)</a></span></span>"
      ]
     },
     "execution_count": 6,
     "metadata": {},
     "output_type": "execute_result"
    }
   ],
   "source": [
    "results[0]"
   ]
  },
  {
   "cell_type": "markdown",
   "metadata": {},
   "source": [
    "# Parse the first lie into 4 structured columns:\n",
    "* Date\n",
    "* Lie\n",
    "* Description\n",
    "* Link"
   ]
  },
  {
   "cell_type": "markdown",
   "metadata": {},
   "source": [
    "# The first result to see the pattern of the html"
   ]
  },
  {
   "cell_type": "code",
   "execution_count": 7,
   "metadata": {},
   "outputs": [],
   "source": [
    "r = results[0]"
   ]
  },
  {
   "cell_type": "code",
   "execution_count": 8,
   "metadata": {},
   "outputs": [
    {
     "data": {
      "text/plain": [
       "<span class=\"short-desc\"><strong>Jan. 21 </strong>“I wasn't a fan of Iraq. I didn't want to go into Iraq.” <span class=\"short-truth\"><a href=\"https://www.buzzfeed.com/andrewkaczynski/in-2002-donald-trump-said-he-supported-invading-iraq-on-the\" target=\"_blank\">(He was for an invasion before he was against it.)</a></span></span>"
      ]
     },
     "execution_count": 8,
     "metadata": {},
     "output_type": "execute_result"
    }
   ],
   "source": [
    "r"
   ]
  },
  {
   "cell_type": "markdown",
   "metadata": {},
   "source": [
    "# Parsing date by looking at the strong tag"
   ]
  },
  {
   "cell_type": "code",
   "execution_count": 9,
   "metadata": {},
   "outputs": [],
   "source": [
    "date = r.find(\"strong\").text[:-1] + \", 2017\""
   ]
  },
  {
   "cell_type": "code",
   "execution_count": 10,
   "metadata": {},
   "outputs": [
    {
     "data": {
      "text/plain": [
       "'Jan. 21, 2017'"
      ]
     },
     "execution_count": 10,
     "metadata": {},
     "output_type": "execute_result"
    }
   ],
   "source": [
    "date"
   ]
  },
  {
   "cell_type": "markdown",
   "metadata": {},
   "source": [
    "# Parsing lie by parsing the content out"
   ]
  },
  {
   "cell_type": "code",
   "execution_count": 11,
   "metadata": {},
   "outputs": [],
   "source": [
    "lie = r.contents[1][1:-2]"
   ]
  },
  {
   "cell_type": "code",
   "execution_count": 12,
   "metadata": {},
   "outputs": [
    {
     "data": {
      "text/plain": [
       "\"I wasn't a fan of Iraq. I didn't want to go into Iraq.\""
      ]
     },
     "execution_count": 12,
     "metadata": {},
     "output_type": "execute_result"
    }
   ],
   "source": [
    "lie"
   ]
  },
  {
   "cell_type": "markdown",
   "metadata": {},
   "source": [
    "# Parsing explanation by looking at the a tag"
   ]
  },
  {
   "cell_type": "code",
   "execution_count": 13,
   "metadata": {},
   "outputs": [],
   "source": [
    "explanation = r.find(\"a\").text[1:-1]"
   ]
  },
  {
   "cell_type": "code",
   "execution_count": 14,
   "metadata": {},
   "outputs": [
    {
     "data": {
      "text/plain": [
       "'He was for an invasion before he was against it.'"
      ]
     },
     "execution_count": 14,
     "metadata": {},
     "output_type": "execute_result"
    }
   ],
   "source": [
    "explanation"
   ]
  },
  {
   "cell_type": "markdown",
   "metadata": {},
   "source": [
    "# Parsing link out by looking at the href key of the a tag"
   ]
  },
  {
   "cell_type": "code",
   "execution_count": 15,
   "metadata": {},
   "outputs": [],
   "source": [
    "link = r.find(\"a\")[\"href\"]"
   ]
  },
  {
   "cell_type": "code",
   "execution_count": 16,
   "metadata": {},
   "outputs": [
    {
     "data": {
      "text/plain": [
       "'https://www.buzzfeed.com/andrewkaczynski/in-2002-donald-trump-said-he-supported-invading-iraq-on-the'"
      ]
     },
     "execution_count": 16,
     "metadata": {},
     "output_type": "execute_result"
    }
   ],
   "source": [
    "link"
   ]
  },
  {
   "cell_type": "markdown",
   "metadata": {},
   "source": [
    "# Now, iterating over the whole records and put it into a dataframe"
   ]
  },
  {
   "cell_type": "code",
   "execution_count": 17,
   "metadata": {},
   "outputs": [],
   "source": [
    "rows = []\n",
    "for r in results:\n",
    "    date = r.find(\"strong\").text[:-1] + \", 2017\"\n",
    "    lie = r.contents[1][1:-2]\n",
    "    explanation = r.find(\"a\").text[1:-1]\n",
    "    link = r.find(\"a\")[\"href\"]\n",
    "    rows.append( (date, lie, explanation, link) )"
   ]
  },
  {
   "cell_type": "code",
   "execution_count": 18,
   "metadata": {},
   "outputs": [],
   "source": [
    "df = pd.DataFrame(data = rows, columns=[\"Date\", \"Lie\", \"Explanation\", \"Link\"])\n",
    "df[\"Date\"] = pd.to_datetime(df[\"Date\"])"
   ]
  },
  {
   "cell_type": "code",
   "execution_count": 19,
   "metadata": {},
   "outputs": [
    {
     "data": {
      "text/html": [
       "<div>\n",
       "<style scoped>\n",
       "    .dataframe tbody tr th:only-of-type {\n",
       "        vertical-align: middle;\n",
       "    }\n",
       "\n",
       "    .dataframe tbody tr th {\n",
       "        vertical-align: top;\n",
       "    }\n",
       "\n",
       "    .dataframe thead th {\n",
       "        text-align: right;\n",
       "    }\n",
       "</style>\n",
       "<table border=\"1\" class=\"dataframe\">\n",
       "  <thead>\n",
       "    <tr style=\"text-align: right;\">\n",
       "      <th></th>\n",
       "      <th>Date</th>\n",
       "      <th>Lie</th>\n",
       "      <th>Explanation</th>\n",
       "      <th>Link</th>\n",
       "    </tr>\n",
       "  </thead>\n",
       "  <tbody>\n",
       "    <tr>\n",
       "      <th>0</th>\n",
       "      <td>2017-01-21</td>\n",
       "      <td>I wasn't a fan of Iraq. I didn't want to go in...</td>\n",
       "      <td>He was for an invasion before he was against it.</td>\n",
       "      <td>https://www.buzzfeed.com/andrewkaczynski/in-20...</td>\n",
       "    </tr>\n",
       "    <tr>\n",
       "      <th>1</th>\n",
       "      <td>2017-01-21</td>\n",
       "      <td>A reporter for Time magazine — and I have been...</td>\n",
       "      <td>Trump was on the cover 11 times and Nixon appe...</td>\n",
       "      <td>http://nation.time.com/2013/11/06/10-things-yo...</td>\n",
       "    </tr>\n",
       "    <tr>\n",
       "      <th>2</th>\n",
       "      <td>2017-01-23</td>\n",
       "      <td>Between 3 million and 5 million illegal votes ...</td>\n",
       "      <td>There's no evidence of illegal voting.</td>\n",
       "      <td>https://www.nytimes.com/2017/01/23/us/politics...</td>\n",
       "    </tr>\n",
       "    <tr>\n",
       "      <th>3</th>\n",
       "      <td>2017-01-25</td>\n",
       "      <td>Now, the audience was the biggest ever. But th...</td>\n",
       "      <td>Official aerial photos show Obama's 2009 inaug...</td>\n",
       "      <td>https://www.nytimes.com/2017/01/21/us/politics...</td>\n",
       "    </tr>\n",
       "    <tr>\n",
       "      <th>4</th>\n",
       "      <td>2017-01-25</td>\n",
       "      <td>Take a look at the Pew reports (which show vot...</td>\n",
       "      <td>The report never mentioned voter fraud.</td>\n",
       "      <td>https://www.nytimes.com/2017/01/24/us/politics...</td>\n",
       "    </tr>\n",
       "    <tr>\n",
       "      <th>5</th>\n",
       "      <td>2017-01-25</td>\n",
       "      <td>You had millions of people that now aren't ins...</td>\n",
       "      <td>The real number is less than 1 million, accord...</td>\n",
       "      <td>https://www.nytimes.com/2017/03/13/us/politics...</td>\n",
       "    </tr>\n",
       "    <tr>\n",
       "      <th>6</th>\n",
       "      <td>2017-01-25</td>\n",
       "      <td>So, look, when President Obama was there two w...</td>\n",
       "      <td>There were no gun homicide victims in Chicago ...</td>\n",
       "      <td>https://www.dnainfo.com/chicago/2017-chicago-m...</td>\n",
       "    </tr>\n",
       "    <tr>\n",
       "      <th>7</th>\n",
       "      <td>2017-01-26</td>\n",
       "      <td>We've taken in tens of thousands of people. We...</td>\n",
       "      <td>Vetting lasts up to two years.</td>\n",
       "      <td>https://www.nytimes.com/interactive/2017/01/29...</td>\n",
       "    </tr>\n",
       "    <tr>\n",
       "      <th>8</th>\n",
       "      <td>2017-01-26</td>\n",
       "      <td>I cut off hundreds of millions of dollars off ...</td>\n",
       "      <td>Most of the cuts were already planned.</td>\n",
       "      <td>https://www.washingtonpost.com/news/fact-check...</td>\n",
       "    </tr>\n",
       "    <tr>\n",
       "      <th>9</th>\n",
       "      <td>2017-01-28</td>\n",
       "      <td>The coverage about me in the @nytimes and the ...</td>\n",
       "      <td>It never apologized.</td>\n",
       "      <td>https://www.nytimes.com/2016/11/13/us/election...</td>\n",
       "    </tr>\n",
       "    <tr>\n",
       "      <th>10</th>\n",
       "      <td>2017-01-29</td>\n",
       "      <td>The Cuban-Americans, I got 84 percent of that ...</td>\n",
       "      <td>There is no support for this.</td>\n",
       "      <td>http://www.pewresearch.org/fact-tank/2016/11/1...</td>\n",
       "    </tr>\n",
       "    <tr>\n",
       "      <th>11</th>\n",
       "      <td>2017-01-30</td>\n",
       "      <td>Only 109 people out of 325,000 were detained a...</td>\n",
       "      <td>At least 746 people were detained and processe...</td>\n",
       "      <td>http://markets.on.nytimes.com/research/stocks/...</td>\n",
       "    </tr>\n",
       "    <tr>\n",
       "      <th>12</th>\n",
       "      <td>2017-02-03</td>\n",
       "      <td>Professional anarchists, thugs and paid protes...</td>\n",
       "      <td>There is no evidence of paid protesters.</td>\n",
       "      <td>https://www.nytimes.com/2017/01/28/nyregion/jf...</td>\n",
       "    </tr>\n",
       "    <tr>\n",
       "      <th>13</th>\n",
       "      <td>2017-02-04</td>\n",
       "      <td>After being forced to apologize for its bad an...</td>\n",
       "      <td>It never apologized.</td>\n",
       "      <td>https://www.nytimes.com/2016/11/13/us/election...</td>\n",
       "    </tr>\n",
       "    <tr>\n",
       "      <th>14</th>\n",
       "      <td>2017-02-05</td>\n",
       "      <td>We had 109 people out of hundreds of thousands...</td>\n",
       "      <td>About 60,000 people were affected.</td>\n",
       "      <td>http://www.politifact.com/truth-o-meter/statem...</td>\n",
       "    </tr>\n",
       "    <tr>\n",
       "      <th>15</th>\n",
       "      <td>2017-02-06</td>\n",
       "      <td>I have already saved more than $700 million wh...</td>\n",
       "      <td>Much of the price drop was projected before Tr...</td>\n",
       "      <td>https://www.washingtonpost.com/news/fact-check...</td>\n",
       "    </tr>\n",
       "    <tr>\n",
       "      <th>16</th>\n",
       "      <td>2017-02-06</td>\n",
       "      <td>It's gotten to a point where it is not even be...</td>\n",
       "      <td>Terrorism has been reported on, often in detail.</td>\n",
       "      <td>https://www.nytimes.com/2017/02/07/us/politics...</td>\n",
       "    </tr>\n",
       "    <tr>\n",
       "      <th>17</th>\n",
       "      <td>2017-02-06</td>\n",
       "      <td>The failing @nytimes was forced to apologize t...</td>\n",
       "      <td>It didn't apologize.</td>\n",
       "      <td>https://www.nytimes.com/2016/11/13/us/election...</td>\n",
       "    </tr>\n",
       "    <tr>\n",
       "      <th>18</th>\n",
       "      <td>2017-02-06</td>\n",
       "      <td>And the previous administration allowed it to ...</td>\n",
       "      <td>The group’s origins date to 2004.</td>\n",
       "      <td>https://www.nytimes.com/2015/11/19/world/middl...</td>\n",
       "    </tr>\n",
       "    <tr>\n",
       "      <th>19</th>\n",
       "      <td>2017-02-07</td>\n",
       "      <td>And yet the murder rate in our country is the ...</td>\n",
       "      <td>It was higher in the 1980s and '90s.</td>\n",
       "      <td>http://www.politifact.com/truth-o-meter/statem...</td>\n",
       "    </tr>\n",
       "  </tbody>\n",
       "</table>\n",
       "</div>"
      ],
      "text/plain": [
       "         Date                                                Lie  \\\n",
       "0  2017-01-21  I wasn't a fan of Iraq. I didn't want to go in...   \n",
       "1  2017-01-21  A reporter for Time magazine — and I have been...   \n",
       "2  2017-01-23  Between 3 million and 5 million illegal votes ...   \n",
       "3  2017-01-25  Now, the audience was the biggest ever. But th...   \n",
       "4  2017-01-25  Take a look at the Pew reports (which show vot...   \n",
       "5  2017-01-25  You had millions of people that now aren't ins...   \n",
       "6  2017-01-25  So, look, when President Obama was there two w...   \n",
       "7  2017-01-26  We've taken in tens of thousands of people. We...   \n",
       "8  2017-01-26  I cut off hundreds of millions of dollars off ...   \n",
       "9  2017-01-28  The coverage about me in the @nytimes and the ...   \n",
       "10 2017-01-29  The Cuban-Americans, I got 84 percent of that ...   \n",
       "11 2017-01-30  Only 109 people out of 325,000 were detained a...   \n",
       "12 2017-02-03  Professional anarchists, thugs and paid protes...   \n",
       "13 2017-02-04  After being forced to apologize for its bad an...   \n",
       "14 2017-02-05  We had 109 people out of hundreds of thousands...   \n",
       "15 2017-02-06  I have already saved more than $700 million wh...   \n",
       "16 2017-02-06  It's gotten to a point where it is not even be...   \n",
       "17 2017-02-06  The failing @nytimes was forced to apologize t...   \n",
       "18 2017-02-06  And the previous administration allowed it to ...   \n",
       "19 2017-02-07  And yet the murder rate in our country is the ...   \n",
       "\n",
       "                                          Explanation  \\\n",
       "0    He was for an invasion before he was against it.   \n",
       "1   Trump was on the cover 11 times and Nixon appe...   \n",
       "2              There's no evidence of illegal voting.   \n",
       "3   Official aerial photos show Obama's 2009 inaug...   \n",
       "4             The report never mentioned voter fraud.   \n",
       "5   The real number is less than 1 million, accord...   \n",
       "6   There were no gun homicide victims in Chicago ...   \n",
       "7                      Vetting lasts up to two years.   \n",
       "8              Most of the cuts were already planned.   \n",
       "9                                It never apologized.   \n",
       "10                      There is no support for this.   \n",
       "11  At least 746 people were detained and processe...   \n",
       "12           There is no evidence of paid protesters.   \n",
       "13                               It never apologized.   \n",
       "14                 About 60,000 people were affected.   \n",
       "15  Much of the price drop was projected before Tr...   \n",
       "16   Terrorism has been reported on, often in detail.   \n",
       "17                               It didn't apologize.   \n",
       "18                  The group’s origins date to 2004.   \n",
       "19               It was higher in the 1980s and '90s.   \n",
       "\n",
       "                                                 Link  \n",
       "0   https://www.buzzfeed.com/andrewkaczynski/in-20...  \n",
       "1   http://nation.time.com/2013/11/06/10-things-yo...  \n",
       "2   https://www.nytimes.com/2017/01/23/us/politics...  \n",
       "3   https://www.nytimes.com/2017/01/21/us/politics...  \n",
       "4   https://www.nytimes.com/2017/01/24/us/politics...  \n",
       "5   https://www.nytimes.com/2017/03/13/us/politics...  \n",
       "6   https://www.dnainfo.com/chicago/2017-chicago-m...  \n",
       "7   https://www.nytimes.com/interactive/2017/01/29...  \n",
       "8   https://www.washingtonpost.com/news/fact-check...  \n",
       "9   https://www.nytimes.com/2016/11/13/us/election...  \n",
       "10  http://www.pewresearch.org/fact-tank/2016/11/1...  \n",
       "11  http://markets.on.nytimes.com/research/stocks/...  \n",
       "12  https://www.nytimes.com/2017/01/28/nyregion/jf...  \n",
       "13  https://www.nytimes.com/2016/11/13/us/election...  \n",
       "14  http://www.politifact.com/truth-o-meter/statem...  \n",
       "15  https://www.washingtonpost.com/news/fact-check...  \n",
       "16  https://www.nytimes.com/2017/02/07/us/politics...  \n",
       "17  https://www.nytimes.com/2016/11/13/us/election...  \n",
       "18  https://www.nytimes.com/2015/11/19/world/middl...  \n",
       "19  http://www.politifact.com/truth-o-meter/statem...  "
      ]
     },
     "execution_count": 19,
     "metadata": {},
     "output_type": "execute_result"
    }
   ],
   "source": [
    "df.head(20)"
   ]
  }
 ],
 "metadata": {
  "kernelspec": {
   "display_name": "Python 3",
   "language": "python",
   "name": "python3"
  },
  "language_info": {
   "codemirror_mode": {
    "name": "ipython",
    "version": 3
   },
   "file_extension": ".py",
   "mimetype": "text/x-python",
   "name": "python",
   "nbconvert_exporter": "python",
   "pygments_lexer": "ipython3",
   "version": "3.7.2"
  }
 },
 "nbformat": 4,
 "nbformat_minor": 2
}
